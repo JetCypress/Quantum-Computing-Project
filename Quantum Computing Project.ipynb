{
 "cells": [
  {
   "cell_type": "code",
   "execution_count": 1,
   "id": "86c7281b",
   "metadata": {},
   "outputs": [],
   "source": [
    "from qiskit import *"
   ]
  },
  {
   "cell_type": "code",
   "execution_count": 2,
   "id": "62098c31",
   "metadata": {},
   "outputs": [],
   "source": [
    "secretWord = \"DidyoueverhearthetragedyofDarthPlagueisTheWise\""
   ]
  },
  {
   "cell_type": "code",
   "execution_count": 3,
   "id": "f9dfc12d",
   "metadata": {},
   "outputs": [
    {
     "name": "stdout",
     "output_type": "stream",
     "text": [
      "1000100011010010110010001111001011011110111010101100101011101100110010101110010011010000110010101100001011100100111010001101000011001010111010001110010011000010110011101100101011001000111100101101111011001100100010001100001011100100111010001101000010100000110110001100001011001110111010101100101011010010111001101010100011010000110010101010111011010010111001101100101\n"
     ]
    }
   ],
   "source": [
    "binary_string = '0'.join(format(ord(x), 'b') for x in secretWord)\n",
    "print(binary_string)"
   ]
  },
  {
   "cell_type": "code",
   "execution_count": 4,
   "id": "91191cb7",
   "metadata": {},
   "outputs": [
    {
     "data": {
      "text/plain": [
       "<qiskit.circuit.instructionset.InstructionSet at 0x1beee037bb0>"
      ]
     },
     "execution_count": 4,
     "metadata": {},
     "output_type": "execute_result"
    }
   ],
   "source": [
    "circuit = QuantumCircuit(len(binary_string)+1, len(binary_string))\n",
    "\n",
    "circuit.h(range(len(binary_string)))\n",
    "circuit.x(len(binary_string))\n",
    "circuit.h(len(binary_string))\n",
    "\n",
    "for ii, yesno in enumerate(reversed(binary_string)):\n",
    "    if yesno == '1':\n",
    "        circuit.cx(ii, len(binary_string))\n",
    "    \n",
    "circuit.h(range(len(binary_string)))\n",
    "circuit.measure(range(len(binary_string)), range(len(binary_string)))"
   ]
  },
  {
   "cell_type": "code",
   "execution_count": 5,
   "id": "954fad8e",
   "metadata": {},
   "outputs": [
    {
     "name": "stdout",
     "output_type": "stream",
     "text": [
      "{'1000100011010010110010001111001011011110111010101100101011101100110010101110010011010000110010101100001011100100111010001101000011001010111010001110010011000010110011101100101011001000111100101101111011001100100010001100001011100100111010001101000010100000110110001100001011001110111010101100101011010010111001101010100011010000110010101010111011010010111001101100101': 1}\n"
     ]
    }
   ],
   "source": [
    "simulator = Aer.get_backend('qasm_simulator')\n",
    "binary_result = execute(circuit, backend = simulator, shots = 1).result()\n",
    "counts = binary_result.get_counts()\n",
    "print(counts)"
   ]
  },
  {
   "cell_type": "code",
   "execution_count": 6,
   "id": "50a72222",
   "metadata": {},
   "outputs": [
    {
     "name": "stdout",
     "output_type": "stream",
     "text": [
      "1000100011010010110010001111001011011110111010101100101011101100110010101110010011010000110010101100001011100100111010001101000011001010111010001110010011000010110011101100101011001000111100101101111011001100100010001100001011100100111010001101000010100000110110001100001011001110111010101100101011010010111001101010100011010000110010101010111011010010111001101100101\n",
      "160667765637940551406148663234509919883642282064933476987099253422061039187863860697380803948426668856647971685\n",
      "\u0000\u0000\u0000\u0000\u0000\u0000\u0000\u0000\u0000\u0000\u0000\u0000\u0000\u0000\u0000\u0000\u0000\u0000\u0000\u0000\u0000\u0000\u0000\u0000\u0000\u0000\u0000\u0000\u0000\u0000\u0000\u0000\u0000\u0000\u0000\u0000\u0000\u0000\u0000\u0000\u0000\u0000\u0000\u0000\u0000\u0000\u0000\u0000\u0000\u0000\u0000\u0000\u0000\u0000\u0000\u0000\u0000\u0000\u0000\u0000\u0000\u0000\u0000\u0000\u0000\u0000\u0000\u0000\u0000\u0000\u0000\u0000\u0000\u0000\u0000\u0000\u0000\u0000\u0000\u0000\u0000\u0000\u0000\u0000\u0000\u0000\u0000\u0000\u0000\u0000\u0000\u0000\u0000\u0000\u0000\u0000\u0000\u0000\u0000\u0000\u0000\u0000\u0000\u0000\u0000\u0000\u0000\u0000\u0000\u0000\u0000\u0000\u0000\u0000\u0000\u0000\u0000\u0000\u0000\u0000\u0000\u0000\u0000\u0000\u0000\u0000\u0000\u0000\u0000\u0000\u0000\u0000\u0000\u0000\u0000\u0000\u0000\u0000\u0000\u0000\u0000\u0000\u0000\u0000\u0000\u0000\u0000\u0000\u0000\u0000\u0000\u0000\u0000\u0000\u0000\u0000\u0000\u0000\u0000\u0000\u0000\u0000\u0000\u0000\u0000\u0000\u0000\u0000\u0000\u0000\u0000\u0000\u0000\u0000\u0000\u0000\u0000\u0000\u0000\u0000\u0000\u0000\u0000\u0000\u0000\u0000\u0000\u0000\u0000\u0000\u0000\u0000\u0000\u0000\u0000\u0000\u0000\u0000\u0000\u0000\u0000\u0000\u0000\u0000\u0000\u0000\u0000\u0000\u0000\u0000\u0000\u0000\u0000\u0000\u0000\u0000\u0000\u0000\u0000\u0000\u0000\u0000\u0000\u0000\u0000\u0000\u0000\u0000\u0000\u0000\u0000\u0000\u0000\u0000\u0000\u0000\u0000\u0000\u0000\u0000\u0000\u0000\u0000\u0000\u0000\u0000\u0000\u0000\u0000\u0000\u0000\u0000\u0000\u0000\u0000\u0000\u0000\u0000\u0000\u0000\u0000\u0000\u0000\u0000\u0000\u0000\u0000\u0000\u0000\u0000\u0000\u0000\u0000\u0000\u0000\u0000\u0000\u0000\u0000\u0000\u0000\u0000\u0000\u0000\u0000\u0000\u0000\u0000\u0000\u0000\u0000\u0000\u0000\u0000\u0000\u0000\u0000\u0000\u0000\u0000\u0000\u0000\u0000\u0000\u0000\u0000\u0000\u0000\u0000\u0000\u0000\u0000\u0000\u0000\u0000\u0000\u0000\u0000\u0000\u0000\u0000DidyoueverhearthetragedyofDarthPlagueisTheWise\n"
     ]
    }
   ],
   "source": [
    "binaryWord = list(counts.keys())[0]\n",
    "print(binaryWord)\n",
    "binary_int = int(binaryWord, 2);\n",
    "print(binary_int)\n",
    "# Getting the byte number\n",
    "byte_number = binary_int.bit_length() + 7 // 8\n",
    " \n",
    "# Getting an array of bytes\n",
    "binary_array = binary_int.to_bytes(byte_number, \"big\")\n",
    " \n",
    "# Converting the array into ASCII text\n",
    "ascii_text = binary_array.decode()\n",
    " \n",
    "# Getting the ASCII value\n",
    "print(ascii_text)"
   ]
  },
  {
   "cell_type": "code",
   "execution_count": null,
   "id": "2b75d81a",
   "metadata": {},
   "outputs": [],
   "source": []
  }
 ],
 "metadata": {
  "kernelspec": {
   "display_name": "Python 3 (ipykernel)",
   "language": "python",
   "name": "python3"
  },
  "language_info": {
   "codemirror_mode": {
    "name": "ipython",
    "version": 3
   },
   "file_extension": ".py",
   "mimetype": "text/x-python",
   "name": "python",
   "nbconvert_exporter": "python",
   "pygments_lexer": "ipython3",
   "version": "3.9.15"
  }
 },
 "nbformat": 4,
 "nbformat_minor": 5
}
